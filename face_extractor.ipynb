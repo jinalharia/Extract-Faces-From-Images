{
 "cells": [
  {
   "cell_type": "code",
   "execution_count": 19,
   "metadata": {},
   "outputs": [],
   "source": [
    "# Import libraries\n",
    "import os\n",
    "import cv2\n",
    "import numpy as np\n",
    "\n",
    "# Define paths\n",
    "base_dir = os.path.abspath('')\n",
    "prototxt_path = os.path.join(base_dir, 'model_data', 'deploy.prototxt')\n",
    "caffemodel_path = os.path.join(base_dir, 'model_data', 'weights.caffemodel')\n",
    "\n",
    "# Read the model\n",
    "model = cv2.dnn.readNetFromCaffe(prototxt_path, caffemodel_path)\n"
   ]
  },
  {
   "cell_type": "markdown",
   "metadata": {},
   "source": [
    "Below cell is to extract faces into a separate folder"
   ]
  },
  {
   "cell_type": "code",
   "execution_count": 21,
   "metadata": {},
   "outputs": [
    {
     "name": "stdout",
     "output_type": "stream",
     "text": [
      "Extracted 1 faces from all images\n"
     ]
    }
   ],
   "source": [
    "# Create directory 'faces' if it does not exist\n",
    "if not os.path.exists('faces'):\n",
    "    print(\"New directory created\")\n",
    "    os.makedirs('faces')\n",
    "\n",
    "# Loop through all images and strip out faces\n",
    "count = 0\n",
    "for file in os.listdir(os.path.join(base_dir, 'images')):\n",
    "    file_name, file_extension = os.path.splitext(file)\n",
    "    if (file_extension in ['.png','.jpg']):\n",
    "        image = cv2.imread(os.path.join(base_dir, 'images', file))\n",
    "\n",
    "        (h, w) = image.shape[:2]\n",
    "        blob = cv2.dnn.blobFromImage(cv2.resize(image, (300, 300)), 1.0, (300, 300), (104.0, 177.0, 123.0))\n",
    "\n",
    "        model.setInput(blob)\n",
    "        detections = model.forward()\n",
    "\n",
    "        # Identify each face\n",
    "        for i in range(0, detections.shape[2]):\n",
    "            box = detections[0, 0, i, 3:7] * np.array([w, h, w, h])\n",
    "            (startX, startY, endX, endY) = box.astype(\"int\")\n",
    "\n",
    "            confidence = detections[0, 0, i, 2]\n",
    "\n",
    "            # If confidence > 0.5, save it as a separate file\n",
    "            if (confidence > 0.5):\n",
    "                count += 1\n",
    "                frame = image[startY:endY, startX:endX]\n",
    "                cv2.imwrite(os.path.join(base_dir, 'faces', str(i) + '_' + file), frame)\n",
    "\n",
    "print(\"Extracted \" + str(count) + \" faces from all images\")"
   ]
  },
  {
   "cell_type": "markdown",
   "metadata": {},
   "source": [
    "Below cell is to generate boxes around the faces on the pictures"
   ]
  },
  {
   "cell_type": "code",
   "execution_count": 23,
   "metadata": {},
   "outputs": [
    {
     "name": "stdout",
     "output_type": "stream",
     "text": [
      "Image path: C:\\UBS\\Dev\\neuralnet\\neuralnet\\FaceExtractor\\images\\image_test.png\n",
      "Image image_test.png converted successfully\n"
     ]
    }
   ],
   "source": [
    "# Create directory 'updated_images' if it does not exist\n",
    "if not os.path.exists('updated_images'):\n",
    "    print(\"New directory created\")\n",
    "    os.makedirs('updated_images')\n",
    "\n",
    "# Loop through all images and save images with marked faces\n",
    "for file in os.listdir(os.path.join(base_dir, 'images')):\n",
    "    file_name, file_extension = os.path.splitext(file)\n",
    "    if (file_extension in ['.png','.jpg']):\n",
    "        print(\"Image path: {}\".format(os.path.join(base_dir, 'images', file)))\n",
    "\n",
    "        image = cv2.imread(os.path.join(base_dir, 'images', file))\n",
    "\n",
    "        (h, w) = image.shape[:2]\n",
    "        blob = cv2.dnn.blobFromImage(cv2.resize(image, (300, 300)), 1.0, (300, 300), (104.0, 177.0, 123.0))\n",
    "\n",
    "        model.setInput(blob)\n",
    "        detections = model.forward()\n",
    "\n",
    "        # Create frame around face\n",
    "        for i in range(0, detections.shape[2]):\n",
    "            box = detections[0, 0, i, 3:7] * np.array([w, h, w, h])\n",
    "            (startX, startY, endX, endY) = box.astype(\"int\")\n",
    "\n",
    "            confidence = detections[0, 0, i, 2]\n",
    "\n",
    "            # If confidence > 0.5, show box around face\n",
    "            if (confidence > 0.5):\n",
    "                cv2.rectangle(image, (startX, startY), (endX, endY), (255, 255, 255), 2)\n",
    "\n",
    "        cv2.imwrite(os.path.join(base_dir, 'updated_images', file), image)\n",
    "        print(\"Image \" + file + \" converted successfully\")"
   ]
  },
  {
   "cell_type": "code",
   "execution_count": null,
   "metadata": {},
   "outputs": [],
   "source": []
  }
 ],
 "metadata": {
  "kernelspec": {
   "display_name": "Python 3",
   "language": "python",
   "name": "python3"
  },
  "language_info": {
   "codemirror_mode": {
    "name": "ipython",
    "version": 3
   },
   "file_extension": ".py",
   "mimetype": "text/x-python",
   "name": "python",
   "nbconvert_exporter": "python",
   "pygments_lexer": "ipython3",
   "version": "3.6.9"
  }
 },
 "nbformat": 4,
 "nbformat_minor": 2
}
